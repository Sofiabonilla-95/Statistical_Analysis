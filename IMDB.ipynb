{
 "cells": [
  {
   "cell_type": "code",
   "execution_count": null,
   "id": "d73fdaf1",
   "metadata": {},
   "outputs": [],
   "source": [
    "pip install rake_nltk"
   ]
  },
  {
   "cell_type": "code",
   "execution_count": 4,
   "id": "e946f947",
   "metadata": {},
   "outputs": [
    {
     "name": "stderr",
     "output_type": "stream",
     "text": [
      "[nltk_data] Downloading package stopwords to\n",
      "[nltk_data]     C:\\Users\\sofia\\AppData\\Roaming\\nltk_data...\n",
      "[nltk_data]   Package stopwords is already up-to-date!\n",
      "[nltk_data] Downloading package punkt to\n",
      "[nltk_data]     C:\\Users\\sofia\\AppData\\Roaming\\nltk_data...\n",
      "[nltk_data]   Package punkt is already up-to-date!\n"
     ]
    },
    {
     "data": {
      "text/plain": [
       "True"
      ]
     },
     "execution_count": 4,
     "metadata": {},
     "output_type": "execute_result"
    }
   ],
   "source": [
    "import pandas as pd\n",
    "from datetime import datetime\n",
    "import re\n",
    "from sklearn.metrics.pairwise import cosine_similarity\n",
    "from sklearn.feature_extraction.text import CountVectorizer\n",
    "from sklearn.model_selection import train_test_split\n",
    "from rake_nltk import Rake\n",
    "import operator\n",
    "import nltk\n",
    "nltk.download('stopwords')\n",
    "nltk.download('punkt')"
   ]
  },
  {
   "cell_type": "code",
   "execution_count": 5,
   "id": "7233da22",
   "metadata": {},
   "outputs": [
    {
     "name": "stderr",
     "output_type": "stream",
     "text": [
      "C:\\Users\\sofia\\AppData\\Local\\Programs\\Python\\Python39\\lib\\site-packages\\IPython\\core\\interactiveshell.py:3441: DtypeWarning: Columns (3) have mixed types.Specify dtype option on import or set low_memory=False.\n",
      "  exec(code_obj, self.user_global_ns, self.user_ns)\n"
     ]
    }
   ],
   "source": [
    "movies=pd.read_csv('IMDb movies.csv')"
   ]
  },
  {
   "cell_type": "code",
   "execution_count": 6,
   "id": "4c07dccb",
   "metadata": {},
   "outputs": [],
   "source": [
    "imdb=movies.dropna()"
   ]
  },
  {
   "cell_type": "code",
   "execution_count": 7,
   "id": "40bf873c",
   "metadata": {},
   "outputs": [
    {
     "name": "stderr",
     "output_type": "stream",
     "text": [
      "C:\\Users\\sofia\\AppData\\Local\\Programs\\Python\\Python39\\lib\\site-packages\\pandas\\core\\frame.py:4901: SettingWithCopyWarning: \n",
      "A value is trying to be set on a copy of a slice from a DataFrame\n",
      "\n",
      "See the caveats in the documentation: https://pandas.pydata.org/pandas-docs/stable/user_guide/indexing.html#returning-a-view-versus-a-copy\n",
      "  return super().drop(\n"
     ]
    }
   ],
   "source": [
    "imdb.drop(columns=['date_published','usa_gross_income','writer','production_company',\n",
    "                     'language','country','votes','budget','worlwide_gross_income','reviews_from_users','reviews_from_critics','metascore'],inplace=True)"
   ]
  },
  {
   "cell_type": "code",
   "execution_count": 8,
   "id": "3f24e40f",
   "metadata": {},
   "outputs": [
    {
     "name": "stdout",
     "output_type": "stream",
     "text": [
      "<class 'pandas.core.frame.DataFrame'>\n",
      "Int64Index: 6616 entries, 506 to 85740\n",
      "Data columns (total 10 columns):\n",
      " #   Column          Non-Null Count  Dtype  \n",
      "---  ------          --------------  -----  \n",
      " 0   imdb_title_id   6616 non-null   object \n",
      " 1   title           6616 non-null   object \n",
      " 2   original_title  6616 non-null   object \n",
      " 3   year            6616 non-null   object \n",
      " 4   genre           6616 non-null   object \n",
      " 5   duration        6616 non-null   int64  \n",
      " 6   director        6616 non-null   object \n",
      " 7   actors          6616 non-null   object \n",
      " 8   description     6616 non-null   object \n",
      " 9   avg_vote        6616 non-null   float64\n",
      "dtypes: float64(1), int64(1), object(8)\n",
      "memory usage: 568.6+ KB\n"
     ]
    }
   ],
   "source": [
    "imdb.info()"
   ]
  },
  {
   "cell_type": "code",
   "execution_count": 9,
   "id": "4833cec7",
   "metadata": {},
   "outputs": [
    {
     "name": "stderr",
     "output_type": "stream",
     "text": [
      "C:\\Users\\sofia\\AppData\\Local\\Temp/ipykernel_15140/2867114007.py:1: SettingWithCopyWarning: \n",
      "A value is trying to be set on a copy of a slice from a DataFrame.\n",
      "Try using .loc[row_indexer,col_indexer] = value instead\n",
      "\n",
      "See the caveats in the documentation: https://pandas.pydata.org/pandas-docs/stable/user_guide/indexing.html#returning-a-view-versus-a-copy\n",
      "  imdb['year']=pd.to_datetime(imdb['year'], format='%Y')\n"
     ]
    }
   ],
   "source": [
    "imdb['year']=pd.to_datetime(imdb['year'], format='%Y')"
   ]
  },
  {
   "cell_type": "code",
   "execution_count": 10,
   "id": "8b5c16bf",
   "metadata": {},
   "outputs": [
    {
     "data": {
      "text/plain": [
       "array(['1927-01-01T00:00:00.000000000', '1931-01-01T00:00:00.000000000',\n",
       "       '1936-01-01T00:00:00.000000000', '1937-01-01T00:00:00.000000000',\n",
       "       '1939-01-01T00:00:00.000000000', '1940-01-01T00:00:00.000000000',\n",
       "       '1941-01-01T00:00:00.000000000', '1942-01-01T00:00:00.000000000',\n",
       "       '2001-01-01T00:00:00.000000000', '1946-01-01T00:00:00.000000000',\n",
       "       '1948-01-01T00:00:00.000000000', '1950-01-01T00:00:00.000000000',\n",
       "       '1951-01-01T00:00:00.000000000', '1952-01-01T00:00:00.000000000',\n",
       "       '1953-01-01T00:00:00.000000000', '1954-01-01T00:00:00.000000000',\n",
       "       '1956-01-01T00:00:00.000000000', '1955-01-01T00:00:00.000000000',\n",
       "       '1957-01-01T00:00:00.000000000', '1958-01-01T00:00:00.000000000',\n",
       "       '1959-01-01T00:00:00.000000000', '1963-01-01T00:00:00.000000000',\n",
       "       '1960-01-01T00:00:00.000000000', '1961-01-01T00:00:00.000000000',\n",
       "       '1962-01-01T00:00:00.000000000', '1964-01-01T00:00:00.000000000',\n",
       "       '1966-01-01T00:00:00.000000000', '1965-01-01T00:00:00.000000000',\n",
       "       '1967-01-01T00:00:00.000000000', '1968-01-01T00:00:00.000000000',\n",
       "       '1969-01-01T00:00:00.000000000', '1970-01-01T00:00:00.000000000',\n",
       "       '1971-01-01T00:00:00.000000000', '1972-01-01T00:00:00.000000000',\n",
       "       '1973-01-01T00:00:00.000000000', '1974-01-01T00:00:00.000000000',\n",
       "       '1975-01-01T00:00:00.000000000', '1976-01-01T00:00:00.000000000',\n",
       "       '1977-01-01T00:00:00.000000000', '1978-01-01T00:00:00.000000000',\n",
       "       '1979-01-01T00:00:00.000000000', '1980-01-01T00:00:00.000000000',\n",
       "       '1981-01-01T00:00:00.000000000', '1982-01-01T00:00:00.000000000',\n",
       "       '1983-01-01T00:00:00.000000000', '1984-01-01T00:00:00.000000000',\n",
       "       '1985-01-01T00:00:00.000000000', '1986-01-01T00:00:00.000000000',\n",
       "       '1987-01-01T00:00:00.000000000', '1988-01-01T00:00:00.000000000',\n",
       "       '1989-01-01T00:00:00.000000000', '1990-01-01T00:00:00.000000000',\n",
       "       '1991-01-01T00:00:00.000000000', '1992-01-01T00:00:00.000000000',\n",
       "       '1993-01-01T00:00:00.000000000', '1994-01-01T00:00:00.000000000',\n",
       "       '1995-01-01T00:00:00.000000000', '2000-01-01T00:00:00.000000000',\n",
       "       '1996-01-01T00:00:00.000000000', '1997-01-01T00:00:00.000000000',\n",
       "       '1998-01-01T00:00:00.000000000', '1999-01-01T00:00:00.000000000',\n",
       "       '2005-01-01T00:00:00.000000000', '2002-01-01T00:00:00.000000000',\n",
       "       '2003-01-01T00:00:00.000000000', '2004-01-01T00:00:00.000000000',\n",
       "       '2008-01-01T00:00:00.000000000', '2006-01-01T00:00:00.000000000',\n",
       "       '2007-01-01T00:00:00.000000000', '2010-01-01T00:00:00.000000000',\n",
       "       '2009-01-01T00:00:00.000000000', '2012-01-01T00:00:00.000000000',\n",
       "       '2013-01-01T00:00:00.000000000', '2014-01-01T00:00:00.000000000',\n",
       "       '2015-01-01T00:00:00.000000000', '2011-01-01T00:00:00.000000000',\n",
       "       '2019-01-01T00:00:00.000000000', '2017-01-01T00:00:00.000000000',\n",
       "       '2016-01-01T00:00:00.000000000', '2018-01-01T00:00:00.000000000',\n",
       "       '2020-01-01T00:00:00.000000000'], dtype='datetime64[ns]')"
      ]
     },
     "execution_count": 10,
     "metadata": {},
     "output_type": "execute_result"
    }
   ],
   "source": [
    "imdb.year.unique()"
   ]
  },
  {
   "cell_type": "code",
   "execution_count": 11,
   "id": "c6c7e9d4",
   "metadata": {},
   "outputs": [
    {
     "name": "stderr",
     "output_type": "stream",
     "text": [
      "C:\\Users\\sofia\\AppData\\Local\\Programs\\Python\\Python39\\lib\\site-packages\\pandas\\core\\indexing.py:1817: SettingWithCopyWarning: \n",
      "A value is trying to be set on a copy of a slice from a DataFrame.\n",
      "Try using .loc[row_indexer,col_indexer] = value instead\n",
      "\n",
      "See the caveats in the documentation: https://pandas.pydata.org/pandas-docs/stable/user_guide/indexing.html#returning-a-view-versus-a-copy\n",
      "  self._setitem_single_column(loc, value, pi)\n"
     ]
    }
   ],
   "source": [
    "imdb.loc[(imdb.loc[:, 'year'] =='TV Movie 2019')]='2019'"
   ]
  },
  {
   "cell_type": "code",
   "execution_count": 12,
   "id": "1119da6c",
   "metadata": {},
   "outputs": [
    {
     "name": "stderr",
     "output_type": "stream",
     "text": [
      "C:\\Users\\sofia\\AppData\\Local\\Temp/ipykernel_15140/2867114007.py:1: SettingWithCopyWarning: \n",
      "A value is trying to be set on a copy of a slice from a DataFrame.\n",
      "Try using .loc[row_indexer,col_indexer] = value instead\n",
      "\n",
      "See the caveats in the documentation: https://pandas.pydata.org/pandas-docs/stable/user_guide/indexing.html#returning-a-view-versus-a-copy\n",
      "  imdb['year']=pd.to_datetime(imdb['year'], format='%Y')\n"
     ]
    }
   ],
   "source": [
    "imdb['year']=pd.to_datetime(imdb['year'], format='%Y')"
   ]
  },
  {
   "cell_type": "code",
   "execution_count": 13,
   "id": "a8482e6d",
   "metadata": {},
   "outputs": [
    {
     "data": {
      "text/html": [
       "<div>\n",
       "<style scoped>\n",
       "    .dataframe tbody tr th:only-of-type {\n",
       "        vertical-align: middle;\n",
       "    }\n",
       "\n",
       "    .dataframe tbody tr th {\n",
       "        vertical-align: top;\n",
       "    }\n",
       "\n",
       "    .dataframe thead th {\n",
       "        text-align: right;\n",
       "    }\n",
       "</style>\n",
       "<table border=\"1\" class=\"dataframe\">\n",
       "  <thead>\n",
       "    <tr style=\"text-align: right;\">\n",
       "      <th></th>\n",
       "      <th>imdb_title_id</th>\n",
       "      <th>title</th>\n",
       "      <th>original_title</th>\n",
       "      <th>year</th>\n",
       "      <th>genre</th>\n",
       "      <th>duration</th>\n",
       "      <th>director</th>\n",
       "      <th>actors</th>\n",
       "      <th>description</th>\n",
       "      <th>avg_vote</th>\n",
       "    </tr>\n",
       "  </thead>\n",
       "  <tbody>\n",
       "    <tr>\n",
       "      <th>506</th>\n",
       "      <td>tt0017136</td>\n",
       "      <td>Metropolis</td>\n",
       "      <td>Metropolis</td>\n",
       "      <td>1927-01-01</td>\n",
       "      <td>Drama, Sci-Fi</td>\n",
       "      <td>153</td>\n",
       "      <td>Fritz Lang</td>\n",
       "      <td>Alfred Abel, Gustav Fröhlich, Rudolf Klein-Rog...</td>\n",
       "      <td>In a futuristic city sharply divided between t...</td>\n",
       "      <td>8.3</td>\n",
       "    </tr>\n",
       "    <tr>\n",
       "      <th>1048</th>\n",
       "      <td>tt0021749</td>\n",
       "      <td>Luci della città</td>\n",
       "      <td>City Lights</td>\n",
       "      <td>1931-01-01</td>\n",
       "      <td>Comedy, Drama, Romance</td>\n",
       "      <td>87</td>\n",
       "      <td>Charles Chaplin</td>\n",
       "      <td>Virginia Cherrill, Florence Lee, Harry Myers, ...</td>\n",
       "      <td>With the aid of a wealthy erratic tippler, a d...</td>\n",
       "      <td>8.5</td>\n",
       "    </tr>\n",
       "    <tr>\n",
       "      <th>2454</th>\n",
       "      <td>tt0027977</td>\n",
       "      <td>Tempi moderni</td>\n",
       "      <td>Modern Times</td>\n",
       "      <td>1936-01-01</td>\n",
       "      <td>Comedy, Drama, Family</td>\n",
       "      <td>87</td>\n",
       "      <td>Charles Chaplin</td>\n",
       "      <td>Charles Chaplin, Paulette Goddard, Henry Bergm...</td>\n",
       "      <td>The Tramp struggles to live in modern industri...</td>\n",
       "      <td>8.5</td>\n",
       "    </tr>\n",
       "    <tr>\n",
       "      <th>2795</th>\n",
       "      <td>tt0029453</td>\n",
       "      <td>Il bandito della Casbah</td>\n",
       "      <td>Pépé le Moko</td>\n",
       "      <td>1937-01-01</td>\n",
       "      <td>Crime, Drama, Romance</td>\n",
       "      <td>94</td>\n",
       "      <td>Julien Duvivier</td>\n",
       "      <td>Jean Gabin, Gabriel Gabrio, Saturnin Fabre, Fe...</td>\n",
       "      <td>A wanted gangster is both king and prisoner of...</td>\n",
       "      <td>7.7</td>\n",
       "    </tr>\n",
       "    <tr>\n",
       "      <th>2827</th>\n",
       "      <td>tt0029583</td>\n",
       "      <td>Biancaneve e i sette nani</td>\n",
       "      <td>Snow White and the Seven Dwarfs</td>\n",
       "      <td>1937-01-01</td>\n",
       "      <td>Animation, Family, Fantasy</td>\n",
       "      <td>83</td>\n",
       "      <td>William Cottrell, David Hand</td>\n",
       "      <td>Roy Atwell, Stuart Buchanan, Adriana Caselotti...</td>\n",
       "      <td>Exiled into the dangerous forest by her wicked...</td>\n",
       "      <td>7.6</td>\n",
       "    </tr>\n",
       "  </tbody>\n",
       "</table>\n",
       "</div>"
      ],
      "text/plain": [
       "     imdb_title_id                      title  \\\n",
       "506      tt0017136                 Metropolis   \n",
       "1048     tt0021749           Luci della città   \n",
       "2454     tt0027977              Tempi moderni   \n",
       "2795     tt0029453    Il bandito della Casbah   \n",
       "2827     tt0029583  Biancaneve e i sette nani   \n",
       "\n",
       "                       original_title       year                       genre  \\\n",
       "506                        Metropolis 1927-01-01               Drama, Sci-Fi   \n",
       "1048                      City Lights 1931-01-01      Comedy, Drama, Romance   \n",
       "2454                     Modern Times 1936-01-01       Comedy, Drama, Family   \n",
       "2795                     Pépé le Moko 1937-01-01       Crime, Drama, Romance   \n",
       "2827  Snow White and the Seven Dwarfs 1937-01-01  Animation, Family, Fantasy   \n",
       "\n",
       "     duration                      director  \\\n",
       "506       153                    Fritz Lang   \n",
       "1048       87               Charles Chaplin   \n",
       "2454       87               Charles Chaplin   \n",
       "2795       94               Julien Duvivier   \n",
       "2827       83  William Cottrell, David Hand   \n",
       "\n",
       "                                                 actors  \\\n",
       "506   Alfred Abel, Gustav Fröhlich, Rudolf Klein-Rog...   \n",
       "1048  Virginia Cherrill, Florence Lee, Harry Myers, ...   \n",
       "2454  Charles Chaplin, Paulette Goddard, Henry Bergm...   \n",
       "2795  Jean Gabin, Gabriel Gabrio, Saturnin Fabre, Fe...   \n",
       "2827  Roy Atwell, Stuart Buchanan, Adriana Caselotti...   \n",
       "\n",
       "                                            description avg_vote  \n",
       "506   In a futuristic city sharply divided between t...      8.3  \n",
       "1048  With the aid of a wealthy erratic tippler, a d...      8.5  \n",
       "2454  The Tramp struggles to live in modern industri...      8.5  \n",
       "2795  A wanted gangster is both king and prisoner of...      7.7  \n",
       "2827  Exiled into the dangerous forest by her wicked...      7.6  "
      ]
     },
     "execution_count": 13,
     "metadata": {},
     "output_type": "execute_result"
    }
   ],
   "source": [
    "imdb.head()"
   ]
  },
  {
   "cell_type": "code",
   "execution_count": 14,
   "id": "d3f51a05",
   "metadata": {},
   "outputs": [
    {
     "name": "stderr",
     "output_type": "stream",
     "text": [
      "C:\\Users\\sofia\\AppData\\Local\\Temp/ipykernel_15140/1534484078.py:8: SettingWithCopyWarning: \n",
      "A value is trying to be set on a copy of a slice from a DataFrame.\n",
      "Try using .loc[row_indexer,col_indexer] = value instead\n",
      "\n",
      "See the caveats in the documentation: https://pandas.pydata.org/pandas-docs/stable/user_guide/indexing.html#returning-a-view-versus-a-copy\n",
      "  imdb['Key_words']=Key_words\n"
     ]
    }
   ],
   "source": [
    "Key_words =[]\n",
    "r = Rake()\n",
    "for index, row in imdb.iterrows():\n",
    "    r.extract_keywords_from_text(row['description'])\n",
    "    key_words_dict_scores = r.get_word_degrees()\n",
    "    row['Key_words'] = list(key_words_dict_scores.keys())\n",
    "    Key_words.append(row['Key_words'])\n",
    "imdb['Key_words']=Key_words"
   ]
  },
  {
   "cell_type": "code",
   "execution_count": 15,
   "id": "296b3ec5",
   "metadata": {},
   "outputs": [
    {
     "name": "stderr",
     "output_type": "stream",
     "text": [
      "C:\\Users\\sofia\\AppData\\Local\\Temp/ipykernel_15140/2813023411.py:1: SettingWithCopyWarning: \n",
      "A value is trying to be set on a copy of a slice from a DataFrame.\n",
      "Try using .loc[row_indexer,col_indexer] = value instead\n",
      "\n",
      "See the caveats in the documentation: https://pandas.pydata.org/pandas-docs/stable/user_guide/indexing.html#returning-a-view-versus-a-copy\n",
      "  imdb['Genre'] = imdb['genre'].map(lambda x: x.split(','))\n",
      "C:\\Users\\sofia\\AppData\\Local\\Temp/ipykernel_15140/2813023411.py:2: SettingWithCopyWarning: \n",
      "A value is trying to be set on a copy of a slice from a DataFrame.\n",
      "Try using .loc[row_indexer,col_indexer] = value instead\n",
      "\n",
      "See the caveats in the documentation: https://pandas.pydata.org/pandas-docs/stable/user_guide/indexing.html#returning-a-view-versus-a-copy\n",
      "  imdb['Actors'] = imdb['actors'].map(lambda x: x.split(',')[:3])\n",
      "C:\\Users\\sofia\\AppData\\Local\\Temp/ipykernel_15140/2813023411.py:3: SettingWithCopyWarning: \n",
      "A value is trying to be set on a copy of a slice from a DataFrame.\n",
      "Try using .loc[row_indexer,col_indexer] = value instead\n",
      "\n",
      "See the caveats in the documentation: https://pandas.pydata.org/pandas-docs/stable/user_guide/indexing.html#returning-a-view-versus-a-copy\n",
      "  imdb['Director'] = imdb['director'].map(lambda x: x.split(','))\n",
      "C:\\Users\\sofia\\AppData\\Local\\Temp/ipykernel_15140/2813023411.py:17: SettingWithCopyWarning: \n",
      "A value is trying to be set on a copy of a slice from a DataFrame.\n",
      "Try using .loc[row_indexer,col_indexer] = value instead\n",
      "\n",
      "See the caveats in the documentation: https://pandas.pydata.org/pandas-docs/stable/user_guide/indexing.html#returning-a-view-versus-a-copy\n",
      "  imdb['Genre']=genre\n",
      "C:\\Users\\sofia\\AppData\\Local\\Temp/ipykernel_15140/2813023411.py:18: SettingWithCopyWarning: \n",
      "A value is trying to be set on a copy of a slice from a DataFrame.\n",
      "Try using .loc[row_indexer,col_indexer] = value instead\n",
      "\n",
      "See the caveats in the documentation: https://pandas.pydata.org/pandas-docs/stable/user_guide/indexing.html#returning-a-view-versus-a-copy\n",
      "  imdb['Actors']=actors\n",
      "C:\\Users\\sofia\\AppData\\Local\\Temp/ipykernel_15140/2813023411.py:19: SettingWithCopyWarning: \n",
      "A value is trying to be set on a copy of a slice from a DataFrame.\n",
      "Try using .loc[row_indexer,col_indexer] = value instead\n",
      "\n",
      "See the caveats in the documentation: https://pandas.pydata.org/pandas-docs/stable/user_guide/indexing.html#returning-a-view-versus-a-copy\n",
      "  imdb['Director']=director\n"
     ]
    }
   ],
   "source": [
    "imdb['Genre'] = imdb['genre'].map(lambda x: x.split(','))\n",
    "imdb['Actors'] = imdb['actors'].map(lambda x: x.split(',')[:3])\n",
    "imdb['Director'] = imdb['director'].map(lambda x: x.split(','))\n",
    "\n",
    "genre=[]\n",
    "actors=[]\n",
    "director=[]\n",
    "\n",
    "for index, row in imdb.iterrows():\n",
    "    row['Genre'] = [x.lower().replace(' ','') for x in row['Genre']]\n",
    "    genre.append(row['Genre'])\n",
    "    row['Actors'] = [x.lower().replace(' ','') for x in row['Actors']]\n",
    "    actors.append(row['Actors'])\n",
    "    row['Director'] = [x.lower().replace(' ','') for x in row['Director']]\n",
    "    director.append(row['Director'])\n",
    "    \n",
    "imdb['Genre']=genre\n",
    "imdb['Actors']=actors\n",
    "imdb['Director']=director"
   ]
  },
  {
   "cell_type": "code",
   "execution_count": 75,
   "id": "e09d6dee",
   "metadata": {},
   "outputs": [
    {
     "data": {
      "text/html": [
       "<div>\n",
       "<style scoped>\n",
       "    .dataframe tbody tr th:only-of-type {\n",
       "        vertical-align: middle;\n",
       "    }\n",
       "\n",
       "    .dataframe tbody tr th {\n",
       "        vertical-align: top;\n",
       "    }\n",
       "\n",
       "    .dataframe thead th {\n",
       "        text-align: right;\n",
       "    }\n",
       "</style>\n",
       "<table border=\"1\" class=\"dataframe\">\n",
       "  <thead>\n",
       "    <tr style=\"text-align: right;\">\n",
       "      <th></th>\n",
       "      <th>imdb_title_id</th>\n",
       "      <th>title</th>\n",
       "      <th>original_title</th>\n",
       "      <th>year</th>\n",
       "      <th>genre</th>\n",
       "      <th>duration</th>\n",
       "      <th>director</th>\n",
       "      <th>actors</th>\n",
       "      <th>description</th>\n",
       "      <th>avg_vote</th>\n",
       "      <th>Key_words</th>\n",
       "      <th>Genre</th>\n",
       "      <th>Actors</th>\n",
       "      <th>Director</th>\n",
       "      <th>Bag_of_words</th>\n",
       "    </tr>\n",
       "  </thead>\n",
       "  <tbody>\n",
       "    <tr>\n",
       "      <th>506</th>\n",
       "      <td>tt0017136</td>\n",
       "      <td>Metropolis</td>\n",
       "      <td>Metropolis</td>\n",
       "      <td>1927-01-01</td>\n",
       "      <td>Drama, Sci-Fi</td>\n",
       "      <td>153</td>\n",
       "      <td>Fritz Lang</td>\n",
       "      <td>Alfred Abel, Gustav Fröhlich, Rudolf Klein-Rog...</td>\n",
       "      <td>In a futuristic city sharply divided between t...</td>\n",
       "      <td>8.3</td>\n",
       "      <td>[futuristic, city, sharply, divided, working, ...</td>\n",
       "      <td>[drama, sci-fi]</td>\n",
       "      <td>[alfredabel, gustavfröhlich, rudolfklein-rogge]</td>\n",
       "      <td>[fritzlang]</td>\n",
       "      <td>drama sci-fi fritzlang alfredabel gustavfröhli...</td>\n",
       "    </tr>\n",
       "    <tr>\n",
       "      <th>1048</th>\n",
       "      <td>tt0021749</td>\n",
       "      <td>Luci della città</td>\n",
       "      <td>City Lights</td>\n",
       "      <td>1931-01-01</td>\n",
       "      <td>Comedy, Drama, Romance</td>\n",
       "      <td>87</td>\n",
       "      <td>Charles Chaplin</td>\n",
       "      <td>Virginia Cherrill, Florence Lee, Harry Myers, ...</td>\n",
       "      <td>With the aid of a wealthy erratic tippler, a d...</td>\n",
       "      <td>8.5</td>\n",
       "      <td>[aid, wealthy, erratic, tippler, dewy, eyed, t...</td>\n",
       "      <td>[comedy, drama, romance]</td>\n",
       "      <td>[virginiacherrill, florencelee, harrymyers]</td>\n",
       "      <td>[charleschaplin]</td>\n",
       "      <td>comedy drama romance charleschaplin virginiach...</td>\n",
       "    </tr>\n",
       "    <tr>\n",
       "      <th>2454</th>\n",
       "      <td>tt0027977</td>\n",
       "      <td>Tempi moderni</td>\n",
       "      <td>Modern Times</td>\n",
       "      <td>1936-01-01</td>\n",
       "      <td>Comedy, Drama, Family</td>\n",
       "      <td>87</td>\n",
       "      <td>Charles Chaplin</td>\n",
       "      <td>Charles Chaplin, Paulette Goddard, Henry Bergm...</td>\n",
       "      <td>The Tramp struggles to live in modern industri...</td>\n",
       "      <td>8.5</td>\n",
       "      <td>[tramp, struggles, live, modern, industrial, s...</td>\n",
       "      <td>[comedy, drama, family]</td>\n",
       "      <td>[charleschaplin, paulettegoddard, henrybergman]</td>\n",
       "      <td>[charleschaplin]</td>\n",
       "      <td>comedy drama family charleschaplin charleschap...</td>\n",
       "    </tr>\n",
       "    <tr>\n",
       "      <th>2795</th>\n",
       "      <td>tt0029453</td>\n",
       "      <td>Il bandito della Casbah</td>\n",
       "      <td>Pépé le Moko</td>\n",
       "      <td>1937-01-01</td>\n",
       "      <td>Crime, Drama, Romance</td>\n",
       "      <td>94</td>\n",
       "      <td>Julien Duvivier</td>\n",
       "      <td>Jean Gabin, Gabriel Gabrio, Saturnin Fabre, Fe...</td>\n",
       "      <td>A wanted gangster is both king and prisoner of...</td>\n",
       "      <td>7.7</td>\n",
       "      <td>[wanted, gangster, king, prisoner, casbah, pro...</td>\n",
       "      <td>[crime, drama, romance]</td>\n",
       "      <td>[jeangabin, gabrielgabrio, saturninfabre]</td>\n",
       "      <td>[julienduvivier]</td>\n",
       "      <td>crime drama romance julienduvivier jeangabin g...</td>\n",
       "    </tr>\n",
       "    <tr>\n",
       "      <th>2827</th>\n",
       "      <td>tt0029583</td>\n",
       "      <td>Biancaneve e i sette nani</td>\n",
       "      <td>Snow White and the Seven Dwarfs</td>\n",
       "      <td>1937-01-01</td>\n",
       "      <td>Animation, Family, Fantasy</td>\n",
       "      <td>83</td>\n",
       "      <td>William Cottrell, David Hand</td>\n",
       "      <td>Roy Atwell, Stuart Buchanan, Adriana Caselotti...</td>\n",
       "      <td>Exiled into the dangerous forest by her wicked...</td>\n",
       "      <td>7.6</td>\n",
       "      <td>[exiled, dangerous, forest, wicked, stepmother...</td>\n",
       "      <td>[animation, family, fantasy]</td>\n",
       "      <td>[royatwell, stuartbuchanan, adrianacaselotti]</td>\n",
       "      <td>[williamcottrell, davidhand]</td>\n",
       "      <td>animation family fantasy williamcottrell david...</td>\n",
       "    </tr>\n",
       "    <tr>\n",
       "      <th>...</th>\n",
       "      <td>...</td>\n",
       "      <td>...</td>\n",
       "      <td>...</td>\n",
       "      <td>...</td>\n",
       "      <td>...</td>\n",
       "      <td>...</td>\n",
       "      <td>...</td>\n",
       "      <td>...</td>\n",
       "      <td>...</td>\n",
       "      <td>...</td>\n",
       "      <td>...</td>\n",
       "      <td>...</td>\n",
       "      <td>...</td>\n",
       "      <td>...</td>\n",
       "      <td>...</td>\n",
       "    </tr>\n",
       "    <tr>\n",
       "      <th>85266</th>\n",
       "      <td>tt9208444</td>\n",
       "      <td>Impractical Jokers: The Movie</td>\n",
       "      <td>Impractical Jokers: The Movie</td>\n",
       "      <td>2020-01-01</td>\n",
       "      <td>Comedy</td>\n",
       "      <td>92</td>\n",
       "      <td>Chris Henchy</td>\n",
       "      <td>Paula Abdul, Joe Gatto, James Murray, Brian Qu...</td>\n",
       "      <td>The story of a humiliating high school mishap ...</td>\n",
       "      <td>5.9</td>\n",
       "      <td>[story, humiliating, high, school, mishap, 199...</td>\n",
       "      <td>[comedy]</td>\n",
       "      <td>[paulaabdul, joegatto, jamesmurray]</td>\n",
       "      <td>[chrishenchy]</td>\n",
       "      <td>comedy chrishenchy paulaabdul joegatto jamesmu...</td>\n",
       "    </tr>\n",
       "    <tr>\n",
       "      <th>85274</th>\n",
       "      <td>tt9214832</td>\n",
       "      <td>Emma.</td>\n",
       "      <td>Emma.</td>\n",
       "      <td>2020-01-01</td>\n",
       "      <td>Comedy, Drama</td>\n",
       "      <td>124</td>\n",
       "      <td>Autumn de Wilde</td>\n",
       "      <td>Anya Taylor-Joy, Angus Imrie, Letty Thomas, Ge...</td>\n",
       "      <td>In 1800s England, a well meaning but selfish y...</td>\n",
       "      <td>6.7</td>\n",
       "      <td>[1800s, england, well, meaning, selfish, young...</td>\n",
       "      <td>[comedy, drama]</td>\n",
       "      <td>[anyataylor-joy, angusimrie, lettythomas]</td>\n",
       "      <td>[autumndewilde]</td>\n",
       "      <td>comedy drama autumndewilde anyataylor-joy angu...</td>\n",
       "    </tr>\n",
       "    <tr>\n",
       "      <th>85397</th>\n",
       "      <td>tt9354944</td>\n",
       "      <td>Jexi</td>\n",
       "      <td>Jexi</td>\n",
       "      <td>2019-01-01</td>\n",
       "      <td>Comedy, Romance</td>\n",
       "      <td>84</td>\n",
       "      <td>Jon Lucas, Scott Moore</td>\n",
       "      <td>Adam Devine, Alexandra Shipp, Rose Byrne, Ron ...</td>\n",
       "      <td>A comedy about what can happen when you love y...</td>\n",
       "      <td>6.1</td>\n",
       "      <td>[comedy, happen, love, phone, anything, else, ...</td>\n",
       "      <td>[comedy, romance]</td>\n",
       "      <td>[adamdevine, alexandrashipp, rosebyrne]</td>\n",
       "      <td>[jonlucas, scottmoore]</td>\n",
       "      <td>comedy romance jonlucas scottmoore adamdevine ...</td>\n",
       "    </tr>\n",
       "    <tr>\n",
       "      <th>85460</th>\n",
       "      <td>tt9426210</td>\n",
       "      <td>Weathering with You</td>\n",
       "      <td>Tenki no ko</td>\n",
       "      <td>2019-01-01</td>\n",
       "      <td>Animation, Drama, Family</td>\n",
       "      <td>112</td>\n",
       "      <td>Makoto Shinkai</td>\n",
       "      <td>Kotaro Daigo, Nana Mori, Shun Oguri, Sei Hirai...</td>\n",
       "      <td>A high-school boy who has run away to Tokyo be...</td>\n",
       "      <td>7.6</td>\n",
       "      <td>[high, school, boy, run, away, tokyo, befriend...</td>\n",
       "      <td>[animation, drama, family]</td>\n",
       "      <td>[kotarodaigo, nanamori, shunoguri]</td>\n",
       "      <td>[makotoshinkai]</td>\n",
       "      <td>animation drama family makotoshinkai kotarodai...</td>\n",
       "    </tr>\n",
       "    <tr>\n",
       "      <th>85740</th>\n",
       "      <td>tt9779516</td>\n",
       "      <td>Cosa mi lasci di te</td>\n",
       "      <td>I Still Believe</td>\n",
       "      <td>2020-01-01</td>\n",
       "      <td>Biography, Drama, Music</td>\n",
       "      <td>116</td>\n",
       "      <td>Andrew Erwin, Jon Erwin</td>\n",
       "      <td>K.J. Apa, Britt Robertson, Nathan Parsons, Gar...</td>\n",
       "      <td>The true-life story of Christian music star Je...</td>\n",
       "      <td>6.5</td>\n",
       "      <td>[true, life, story, christian, music, star, je...</td>\n",
       "      <td>[biography, drama, music]</td>\n",
       "      <td>[k.j.apa, brittrobertson, nathanparsons]</td>\n",
       "      <td>[andrewerwin, jonerwin]</td>\n",
       "      <td>biography drama music andrewerwin jonerwin k.j...</td>\n",
       "    </tr>\n",
       "  </tbody>\n",
       "</table>\n",
       "<p>6616 rows × 15 columns</p>\n",
       "</div>"
      ],
      "text/plain": [
       "      imdb_title_id                          title  \\\n",
       "506       tt0017136                     Metropolis   \n",
       "1048      tt0021749               Luci della città   \n",
       "2454      tt0027977                  Tempi moderni   \n",
       "2795      tt0029453        Il bandito della Casbah   \n",
       "2827      tt0029583      Biancaneve e i sette nani   \n",
       "...             ...                            ...   \n",
       "85266     tt9208444  Impractical Jokers: The Movie   \n",
       "85274     tt9214832                          Emma.   \n",
       "85397     tt9354944                           Jexi   \n",
       "85460     tt9426210            Weathering with You   \n",
       "85740     tt9779516            Cosa mi lasci di te   \n",
       "\n",
       "                        original_title       year                       genre  \\\n",
       "506                         Metropolis 1927-01-01               Drama, Sci-Fi   \n",
       "1048                       City Lights 1931-01-01      Comedy, Drama, Romance   \n",
       "2454                      Modern Times 1936-01-01       Comedy, Drama, Family   \n",
       "2795                      Pépé le Moko 1937-01-01       Crime, Drama, Romance   \n",
       "2827   Snow White and the Seven Dwarfs 1937-01-01  Animation, Family, Fantasy   \n",
       "...                                ...        ...                         ...   \n",
       "85266    Impractical Jokers: The Movie 2020-01-01                      Comedy   \n",
       "85274                            Emma. 2020-01-01               Comedy, Drama   \n",
       "85397                             Jexi 2019-01-01             Comedy, Romance   \n",
       "85460                      Tenki no ko 2019-01-01    Animation, Drama, Family   \n",
       "85740                  I Still Believe 2020-01-01     Biography, Drama, Music   \n",
       "\n",
       "      duration                      director  \\\n",
       "506        153                    Fritz Lang   \n",
       "1048        87               Charles Chaplin   \n",
       "2454        87               Charles Chaplin   \n",
       "2795        94               Julien Duvivier   \n",
       "2827        83  William Cottrell, David Hand   \n",
       "...        ...                           ...   \n",
       "85266       92                  Chris Henchy   \n",
       "85274      124               Autumn de Wilde   \n",
       "85397       84        Jon Lucas, Scott Moore   \n",
       "85460      112                Makoto Shinkai   \n",
       "85740      116       Andrew Erwin, Jon Erwin   \n",
       "\n",
       "                                                  actors  \\\n",
       "506    Alfred Abel, Gustav Fröhlich, Rudolf Klein-Rog...   \n",
       "1048   Virginia Cherrill, Florence Lee, Harry Myers, ...   \n",
       "2454   Charles Chaplin, Paulette Goddard, Henry Bergm...   \n",
       "2795   Jean Gabin, Gabriel Gabrio, Saturnin Fabre, Fe...   \n",
       "2827   Roy Atwell, Stuart Buchanan, Adriana Caselotti...   \n",
       "...                                                  ...   \n",
       "85266  Paula Abdul, Joe Gatto, James Murray, Brian Qu...   \n",
       "85274  Anya Taylor-Joy, Angus Imrie, Letty Thomas, Ge...   \n",
       "85397  Adam Devine, Alexandra Shipp, Rose Byrne, Ron ...   \n",
       "85460  Kotaro Daigo, Nana Mori, Shun Oguri, Sei Hirai...   \n",
       "85740  K.J. Apa, Britt Robertson, Nathan Parsons, Gar...   \n",
       "\n",
       "                                             description avg_vote  \\\n",
       "506    In a futuristic city sharply divided between t...      8.3   \n",
       "1048   With the aid of a wealthy erratic tippler, a d...      8.5   \n",
       "2454   The Tramp struggles to live in modern industri...      8.5   \n",
       "2795   A wanted gangster is both king and prisoner of...      7.7   \n",
       "2827   Exiled into the dangerous forest by her wicked...      7.6   \n",
       "...                                                  ...      ...   \n",
       "85266  The story of a humiliating high school mishap ...      5.9   \n",
       "85274  In 1800s England, a well meaning but selfish y...      6.7   \n",
       "85397  A comedy about what can happen when you love y...      6.1   \n",
       "85460  A high-school boy who has run away to Tokyo be...      7.6   \n",
       "85740  The true-life story of Christian music star Je...      6.5   \n",
       "\n",
       "                                               Key_words  \\\n",
       "506    [futuristic, city, sharply, divided, working, ...   \n",
       "1048   [aid, wealthy, erratic, tippler, dewy, eyed, t...   \n",
       "2454   [tramp, struggles, live, modern, industrial, s...   \n",
       "2795   [wanted, gangster, king, prisoner, casbah, pro...   \n",
       "2827   [exiled, dangerous, forest, wicked, stepmother...   \n",
       "...                                                  ...   \n",
       "85266  [story, humiliating, high, school, mishap, 199...   \n",
       "85274  [1800s, england, well, meaning, selfish, young...   \n",
       "85397  [comedy, happen, love, phone, anything, else, ...   \n",
       "85460  [high, school, boy, run, away, tokyo, befriend...   \n",
       "85740  [true, life, story, christian, music, star, je...   \n",
       "\n",
       "                              Genre  \\\n",
       "506                 [drama, sci-fi]   \n",
       "1048       [comedy, drama, romance]   \n",
       "2454        [comedy, drama, family]   \n",
       "2795        [crime, drama, romance]   \n",
       "2827   [animation, family, fantasy]   \n",
       "...                             ...   \n",
       "85266                      [comedy]   \n",
       "85274               [comedy, drama]   \n",
       "85397             [comedy, romance]   \n",
       "85460    [animation, drama, family]   \n",
       "85740     [biography, drama, music]   \n",
       "\n",
       "                                                Actors  \\\n",
       "506    [alfredabel, gustavfröhlich, rudolfklein-rogge]   \n",
       "1048       [virginiacherrill, florencelee, harrymyers]   \n",
       "2454   [charleschaplin, paulettegoddard, henrybergman]   \n",
       "2795         [jeangabin, gabrielgabrio, saturninfabre]   \n",
       "2827     [royatwell, stuartbuchanan, adrianacaselotti]   \n",
       "...                                                ...   \n",
       "85266              [paulaabdul, joegatto, jamesmurray]   \n",
       "85274        [anyataylor-joy, angusimrie, lettythomas]   \n",
       "85397          [adamdevine, alexandrashipp, rosebyrne]   \n",
       "85460               [kotarodaigo, nanamori, shunoguri]   \n",
       "85740         [k.j.apa, brittrobertson, nathanparsons]   \n",
       "\n",
       "                           Director  \\\n",
       "506                     [fritzlang]   \n",
       "1048               [charleschaplin]   \n",
       "2454               [charleschaplin]   \n",
       "2795               [julienduvivier]   \n",
       "2827   [williamcottrell, davidhand]   \n",
       "...                             ...   \n",
       "85266                 [chrishenchy]   \n",
       "85274               [autumndewilde]   \n",
       "85397        [jonlucas, scottmoore]   \n",
       "85460               [makotoshinkai]   \n",
       "85740       [andrewerwin, jonerwin]   \n",
       "\n",
       "                                            Bag_of_words  \n",
       "506    drama sci-fi fritzlang alfredabel gustavfröhli...  \n",
       "1048   comedy drama romance charleschaplin virginiach...  \n",
       "2454   comedy drama family charleschaplin charleschap...  \n",
       "2795   crime drama romance julienduvivier jeangabin g...  \n",
       "2827   animation family fantasy williamcottrell david...  \n",
       "...                                                  ...  \n",
       "85266  comedy chrishenchy paulaabdul joegatto jamesmu...  \n",
       "85274  comedy drama autumndewilde anyataylor-joy angu...  \n",
       "85397  comedy romance jonlucas scottmoore adamdevine ...  \n",
       "85460  animation drama family makotoshinkai kotarodai...  \n",
       "85740  biography drama music andrewerwin jonerwin k.j...  \n",
       "\n",
       "[6616 rows x 15 columns]"
      ]
     },
     "execution_count": 75,
     "metadata": {},
     "output_type": "execute_result"
    }
   ],
   "source": [
    "imdb"
   ]
  },
  {
   "cell_type": "code",
   "execution_count": 76,
   "id": "d352c471",
   "metadata": {},
   "outputs": [
    {
     "name": "stderr",
     "output_type": "stream",
     "text": [
      "C:\\Users\\sofia\\AppData\\Local\\Temp/ipykernel_15140/2210319627.py:10: SettingWithCopyWarning: \n",
      "A value is trying to be set on a copy of a slice from a DataFrame.\n",
      "Try using .loc[row_indexer,col_indexer] = value instead\n",
      "\n",
      "See the caveats in the documentation: https://pandas.pydata.org/pandas-docs/stable/user_guide/indexing.html#returning-a-view-versus-a-copy\n",
      "  imdb['Bag_of_words']=Bag_of_words\n"
     ]
    }
   ],
   "source": [
    "Bag_of_words=[]\n",
    "columns = ['Genre', 'Director', 'Actors', 'Key_words']\n",
    "for index, row in imdb.iterrows():\n",
    "    words = ''\n",
    "    for col in columns:\n",
    "        words += ' '.join(row[col]) + ' '\n",
    "    row['Bag_of_words'] = words\n",
    "    Bag_of_words.append(row['Bag_of_words'])\n",
    "    \n",
    "imdb['Bag_of_words']=Bag_of_words"
   ]
  },
  {
   "cell_type": "code",
   "execution_count": 77,
   "id": "e26045db",
   "metadata": {},
   "outputs": [],
   "source": [
    "df = imdb[['title','original_title','year','genre','director','actors','avg_vote','Bag_of_words']]\n",
    "df=df.reset_index()\n",
    "df.drop(columns=['index'],inplace=True)"
   ]
  },
  {
   "cell_type": "code",
   "execution_count": 78,
   "id": "b03df95d",
   "metadata": {},
   "outputs": [],
   "source": [
    "cm=CountVectorizer().fit_transform(df['Bag_of_words'])"
   ]
  },
  {
   "cell_type": "code",
   "execution_count": 79,
   "id": "ab53294e",
   "metadata": {},
   "outputs": [
    {
     "name": "stdout",
     "output_type": "stream",
     "text": [
      "[[1.         0.08164966 0.04588315 ... 0.05       0.04588315 0.08      ]\n",
      " [0.08164966 1.         0.28097574 ... 0.20412415 0.14048787 0.08164966]\n",
      " [0.04588315 0.28097574 1.         ... 0.11470787 0.10526316 0.04588315]\n",
      " ...\n",
      " [0.05       0.20412415 0.11470787 ... 1.         0.         0.1       ]\n",
      " [0.04588315 0.14048787 0.10526316 ... 0.         1.         0.04588315]\n",
      " [0.08       0.08164966 0.04588315 ... 0.1        0.04588315 1.        ]]\n"
     ]
    }
   ],
   "source": [
    "cosine_sim =cosine_similarity(cm)\n",
    "print(cosine_sim)"
   ]
  },
  {
   "cell_type": "code",
   "execution_count": 80,
   "id": "91ace4c0",
   "metadata": {},
   "outputs": [
    {
     "data": {
      "text/plain": [
       "(6616, 6616)"
      ]
     },
     "execution_count": 80,
     "metadata": {},
     "output_type": "execute_result"
    }
   ],
   "source": [
    "cosine_sim.shape"
   ]
  },
  {
   "cell_type": "code",
   "execution_count": 81,
   "id": "3548211f",
   "metadata": {},
   "outputs": [],
   "source": [
    "indices = pd.Series(df['original_title'])"
   ]
  },
  {
   "cell_type": "code",
   "execution_count": 84,
   "id": "e126da6e",
   "metadata": {},
   "outputs": [],
   "source": [
    "def recommend(title, cosine_sim = cosine_sim):\n",
    "    recommended_movies = []\n",
    "    idx = indices[indices == title].index[0]\n",
    "    score_series = pd.Series(cosine_sim[idx]).sort_values(ascending = False)\n",
    "    top_10_indices = list(score_series.iloc[1:15].index)\n",
    "\n",
    "    for i in top_10_indices:\n",
    "        recommended_movies.append(list(df['original_title'])[i])\n",
    "        \n",
    "    return recommended_movies"
   ]
  },
  {
   "cell_type": "code",
   "execution_count": 92,
   "id": "6d8ae1bb",
   "metadata": {},
   "outputs": [
    {
     "data": {
      "text/plain": [
       "['Harry Potter and the Half-Blood Prince',\n",
       " \"Harry Potter and the Sorcerer's Stone\",\n",
       " 'Harry Potter and the Deathly Hallows: Part 2',\n",
       " 'Harry Potter and the Order of the Phoenix',\n",
       " 'Harry Potter and the Deathly Hallows: Part 1',\n",
       " 'Fantastic Beasts and Where to Find Them',\n",
       " 'A Little Princess',\n",
       " 'Harry Potter and the Goblet of Fire',\n",
       " 'Harry Potter and the Chamber of Secrets',\n",
       " 'The Wiz',\n",
       " 'The Nutcracker and the Four Realms',\n",
       " 'Ferdinand',\n",
       " 'The Wizard of Oz',\n",
       " 'Alice in Wonderland']"
      ]
     },
     "execution_count": 92,
     "metadata": {},
     "output_type": "execute_result"
    }
   ],
   "source": [
    "recommend('Harry Potter and the Prisoner of Azkaban')"
   ]
  },
  {
   "cell_type": "code",
   "execution_count": 29,
   "id": "3bae40fe",
   "metadata": {},
   "outputs": [],
   "source": [
    "indices_1 = pd.Series(df['genre'])"
   ]
  },
  {
   "cell_type": "code",
   "execution_count": 88,
   "id": "150a9f8a",
   "metadata": {},
   "outputs": [],
   "source": [
    "def recommend_genero(genero, cosine_sim = cosine_sim):\n",
    "    recommended_movies = []\n",
    "    idx = indices_1[indices_1 == genero].index[0]\n",
    "    score_series = pd.Series(cosine_sim[idx]).sort_values(ascending = False)\n",
    "    top_10_indices = list(score_series.iloc[1:15].index)\n",
    "\n",
    "    for i in top_10_indices:\n",
    "        recommended_movies.append(list(df['original_title'])[i])\n",
    "        \n",
    "    return recommended_movies"
   ]
  },
  {
   "cell_type": "code",
   "execution_count": 89,
   "id": "2f6f307e",
   "metadata": {},
   "outputs": [
    {
     "data": {
      "text/plain": [
       "['Last Orders',\n",
       " 'Extreme Prejudice',\n",
       " 'Mystic River',\n",
       " 'Cape of Good Hope',\n",
       " 'Another Year',\n",
       " 'Autumn in New York',\n",
       " 'Emma.',\n",
       " 'La mala educación',\n",
       " 'Danny Collins',\n",
       " 'Ballast',\n",
       " 'To Save a Life',\n",
       " 'Book Club',\n",
       " 'The Death & Life of John F. Donovan',\n",
       " 'Cleopatra']"
      ]
     },
     "execution_count": 89,
     "metadata": {},
     "output_type": "execute_result"
    }
   ],
   "source": [
    " recommend_genero('Drama')"
   ]
  },
  {
   "cell_type": "code",
   "execution_count": 42,
   "id": "e72138be",
   "metadata": {},
   "outputs": [],
   "source": [
    "indices_2 = pd.Series(df['director'])"
   ]
  },
  {
   "cell_type": "code",
   "execution_count": 90,
   "id": "cd559173",
   "metadata": {},
   "outputs": [],
   "source": [
    "def recommend_director(Director, cosine_sim = cosine_sim):\n",
    "    recommended_movies = []\n",
    "    idx = indices_2[indices_2 == Director].index[0]\n",
    "    score_series = pd.Series(cosine_sim[idx]).sort_values(ascending = False)\n",
    "    top_10_indices = list(score_series.iloc[1:15].index)\n",
    "\n",
    "    for i in top_10_indices:\n",
    "        recommended_movies.append(list(df['original_title'])[i])\n",
    "        \n",
    "    return recommended_movies"
   ]
  },
  {
   "cell_type": "code",
   "execution_count": 93,
   "id": "1ef99113",
   "metadata": {},
   "outputs": [
    {
     "data": {
      "text/plain": [
       "['Down Terrace',\n",
       " 'Funny Games',\n",
       " 'Canvas',\n",
       " \"The Devil's Rejects\",\n",
       " 'Road to Perdition',\n",
       " 'Breaking In',\n",
       " 'In the Bedroom',\n",
       " 'Double Jeopardy',\n",
       " 'Black and Blue',\n",
       " 'Donkey Punch',\n",
       " 'Birth',\n",
       " 'The Longest Yard',\n",
       " 'Heaven',\n",
       " 'Casa de Areia']"
      ]
     },
     "execution_count": 93,
     "metadata": {},
     "output_type": "execute_result"
    }
   ],
   "source": [
    "recommend_director('Steven Spielberg')"
   ]
  },
  {
   "cell_type": "code",
   "execution_count": null,
   "id": "260c79a3",
   "metadata": {},
   "outputs": [],
   "source": []
  }
 ],
 "metadata": {
  "kernelspec": {
   "display_name": "Python 3 (ipykernel)",
   "language": "python",
   "name": "python3"
  },
  "language_info": {
   "codemirror_mode": {
    "name": "ipython",
    "version": 3
   },
   "file_extension": ".py",
   "mimetype": "text/x-python",
   "name": "python",
   "nbconvert_exporter": "python",
   "pygments_lexer": "ipython3",
   "version": "3.9.6"
  }
 },
 "nbformat": 4,
 "nbformat_minor": 5
}
